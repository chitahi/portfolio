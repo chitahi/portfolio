{
 "cells": [
  {
   "cell_type": "markdown",
   "metadata": {},
   "source": [
    "# Portfolio 3\n",
    "Student Name: **Chi Thanh Liu**  \n",
    "StudentID: **45728046**   \n",
    "URL: (https://github.com/MQCOMP2200-S2-2020/portfolio-2020-Thanh-Liu)"
   ]
  },
  {
   "cell_type": "code",
   "execution_count": 1,
   "metadata": {},
   "outputs": [],
   "source": [
    "import pandas as pd\n",
    "import numpy as np\n",
    "import matplotlib.pyplot as plt\n",
    "%matplotlib inline"
   ]
  },
  {
   "cell_type": "markdown",
   "metadata": {},
   "source": [
    "## Predicting the Genre of Books from Summaries\n",
    "\n",
    "We'll use a set of book summaries from the [CMU Book Summaries Corpus](http://www.cs.cmu.edu/~dbamman/booksummaries.html) in this experiment.  This contains a large number of summaries (16,559) and includes meta-data about the genre of the books taken from Freebase.  Each book can have more than one genre and there are 227 genres listed in total.  To simplify the problem of genre prediction we will select a small number of target genres that occur frequently in the collection and select the books with these genre labels.  This will give us one genre label per book. \n",
    "\n",
    "Your goal in this portfolio is to take this data and build predictive models to classify the books into one of the five target genres.  You will need to extract suitable features from the texts and select suitable models to classify them. You should build and evaluate at least TWO models and compare the prediction results.\n",
    "\n",
    "You should report on each stage of your experiment as you work with the data.\n"
   ]
  },
  {
   "cell_type": "markdown",
   "metadata": {},
   "source": [
    "## Data Preparation\n",
    "\n",
    "The first task is to read the data. It is made available in tab-separated format but has no column headings. We can use `read_csv` to read this but we need to set the separator to `\\t` (tab) and supply the column names.  The names come from the [ReadMe](data/booksummaries/README.txt) file."
   ]
  },
  {
   "cell_type": "code",
   "execution_count": 2,
   "metadata": {
    "scrolled": true
   },
   "outputs": [
    {
     "data": {
      "text/html": [
       "<div>\n",
       "<style scoped>\n",
       "    .dataframe tbody tr th:only-of-type {\n",
       "        vertical-align: middle;\n",
       "    }\n",
       "\n",
       "    .dataframe tbody tr th {\n",
       "        vertical-align: top;\n",
       "    }\n",
       "\n",
       "    .dataframe thead th {\n",
       "        text-align: right;\n",
       "    }\n",
       "</style>\n",
       "<table border=\"1\" class=\"dataframe\">\n",
       "  <thead>\n",
       "    <tr style=\"text-align: right;\">\n",
       "      <th></th>\n",
       "      <th>wid</th>\n",
       "      <th>fid</th>\n",
       "      <th>title</th>\n",
       "      <th>author</th>\n",
       "      <th>date</th>\n",
       "      <th>genres</th>\n",
       "      <th>summary</th>\n",
       "    </tr>\n",
       "  </thead>\n",
       "  <tbody>\n",
       "    <tr>\n",
       "      <th>0</th>\n",
       "      <td>620</td>\n",
       "      <td>/m/0hhy</td>\n",
       "      <td>Animal Farm</td>\n",
       "      <td>George Orwell</td>\n",
       "      <td>1945-08-17</td>\n",
       "      <td>{\"/m/016lj8\": \"Roman \\u00e0 clef\", \"/m/06nbt\":...</td>\n",
       "      <td>Old Major, the old boar on the Manor Farm, ca...</td>\n",
       "    </tr>\n",
       "    <tr>\n",
       "      <th>1</th>\n",
       "      <td>843</td>\n",
       "      <td>/m/0k36</td>\n",
       "      <td>A Clockwork Orange</td>\n",
       "      <td>Anthony Burgess</td>\n",
       "      <td>1962</td>\n",
       "      <td>{\"/m/06n90\": \"Science Fiction\", \"/m/0l67h\": \"N...</td>\n",
       "      <td>Alex, a teenager living in near-future Englan...</td>\n",
       "    </tr>\n",
       "    <tr>\n",
       "      <th>2</th>\n",
       "      <td>986</td>\n",
       "      <td>/m/0ldx</td>\n",
       "      <td>The Plague</td>\n",
       "      <td>Albert Camus</td>\n",
       "      <td>1947</td>\n",
       "      <td>{\"/m/02m4t\": \"Existentialism\", \"/m/02xlf\": \"Fi...</td>\n",
       "      <td>The text of The Plague is divided into five p...</td>\n",
       "    </tr>\n",
       "    <tr>\n",
       "      <th>3</th>\n",
       "      <td>1756</td>\n",
       "      <td>/m/0sww</td>\n",
       "      <td>An Enquiry Concerning Human Understanding</td>\n",
       "      <td>David Hume</td>\n",
       "      <td></td>\n",
       "      <td></td>\n",
       "      <td>The argument of the Enquiry proceeds by a ser...</td>\n",
       "    </tr>\n",
       "    <tr>\n",
       "      <th>4</th>\n",
       "      <td>2080</td>\n",
       "      <td>/m/0wkt</td>\n",
       "      <td>A Fire Upon the Deep</td>\n",
       "      <td>Vernor Vinge</td>\n",
       "      <td></td>\n",
       "      <td>{\"/m/03lrw\": \"Hard science fiction\", \"/m/06n90...</td>\n",
       "      <td>The novel posits that space around the Milky ...</td>\n",
       "    </tr>\n",
       "  </tbody>\n",
       "</table>\n",
       "</div>"
      ],
      "text/plain": [
       "    wid      fid                                      title           author  \\\n",
       "0   620  /m/0hhy                                Animal Farm    George Orwell   \n",
       "1   843  /m/0k36                         A Clockwork Orange  Anthony Burgess   \n",
       "2   986  /m/0ldx                                 The Plague     Albert Camus   \n",
       "3  1756  /m/0sww  An Enquiry Concerning Human Understanding       David Hume   \n",
       "4  2080  /m/0wkt                       A Fire Upon the Deep     Vernor Vinge   \n",
       "\n",
       "         date                                             genres  \\\n",
       "0  1945-08-17  {\"/m/016lj8\": \"Roman \\u00e0 clef\", \"/m/06nbt\":...   \n",
       "1        1962  {\"/m/06n90\": \"Science Fiction\", \"/m/0l67h\": \"N...   \n",
       "2        1947  {\"/m/02m4t\": \"Existentialism\", \"/m/02xlf\": \"Fi...   \n",
       "3                                                                  \n",
       "4              {\"/m/03lrw\": \"Hard science fiction\", \"/m/06n90...   \n",
       "\n",
       "                                             summary  \n",
       "0   Old Major, the old boar on the Manor Farm, ca...  \n",
       "1   Alex, a teenager living in near-future Englan...  \n",
       "2   The text of The Plague is divided into five p...  \n",
       "3   The argument of the Enquiry proceeds by a ser...  \n",
       "4   The novel posits that space around the Milky ...  "
      ]
     },
     "execution_count": 2,
     "metadata": {},
     "output_type": "execute_result"
    }
   ],
   "source": [
    "names = ['wid', 'fid', 'title', 'author', 'date', 'genres', 'summary']\n",
    "books = pd.read_csv(\"data/booksummaries.txt\", sep=\"\\t\", header=None, names=names, keep_default_na=False)\n",
    "books.head()"
   ]
  },
  {
   "cell_type": "markdown",
   "metadata": {},
   "source": [
    "We next filter the data so that only our target genre labels are included and we assign each text to just one of the genre labels.  It's possible that one text could be labelled with two of these labels (eg. Science Fiction and Fantasy) but we will just assign one of those here. "
   ]
  },
  {
   "cell_type": "code",
   "execution_count": 3,
   "metadata": {},
   "outputs": [
    {
     "data": {
      "text/plain": [
       "(8954, 5)"
      ]
     },
     "execution_count": 3,
     "metadata": {},
     "output_type": "execute_result"
    }
   ],
   "source": [
    "target_genres = [\"Children's literature\",\n",
    "                 'Science Fiction',\n",
    "                 'Novel',\n",
    "                 'Fantasy',\n",
    "                 'Mystery']\n",
    "\n",
    "# create a Series of empty strings the same length as the list of books\n",
    "genre = pd.Series(np.repeat(\"\", books.shape[0]))\n",
    "# look for each target genre and set the corresponding entries in the genre series to the genre label\n",
    "for g in target_genres:\n",
    "    genre[books['genres'].str.contains(g)] = g\n",
    "\n",
    "# add this to the book dataframe and then select only those rows that have a genre label\n",
    "# drop some useless columns\n",
    "books['genre'] = genre\n",
    "genre_books = books[genre!=''].drop(['genres', 'fid', 'wid'], axis=1)\n",
    "\n",
    "genre_books.shape\n"
   ]
  },
  {
   "cell_type": "code",
   "execution_count": 4,
   "metadata": {},
   "outputs": [
    {
     "data": {
      "text/html": [
       "<div>\n",
       "<style scoped>\n",
       "    .dataframe tbody tr th:only-of-type {\n",
       "        vertical-align: middle;\n",
       "    }\n",
       "\n",
       "    .dataframe tbody tr th {\n",
       "        vertical-align: top;\n",
       "    }\n",
       "\n",
       "    .dataframe thead th {\n",
       "        text-align: right;\n",
       "    }\n",
       "</style>\n",
       "<table border=\"1\" class=\"dataframe\">\n",
       "  <thead>\n",
       "    <tr style=\"text-align: right;\">\n",
       "      <th></th>\n",
       "      <th>title</th>\n",
       "      <th>author</th>\n",
       "      <th>date</th>\n",
       "      <th>summary</th>\n",
       "      <th>genre</th>\n",
       "    </tr>\n",
       "  </thead>\n",
       "  <tbody>\n",
       "    <tr>\n",
       "      <th>0</th>\n",
       "      <td>Animal Farm</td>\n",
       "      <td>George Orwell</td>\n",
       "      <td>1945-08-17</td>\n",
       "      <td>Old Major, the old boar on the Manor Farm, ca...</td>\n",
       "      <td>Children's literature</td>\n",
       "    </tr>\n",
       "    <tr>\n",
       "      <th>1</th>\n",
       "      <td>A Clockwork Orange</td>\n",
       "      <td>Anthony Burgess</td>\n",
       "      <td>1962</td>\n",
       "      <td>Alex, a teenager living in near-future Englan...</td>\n",
       "      <td>Novel</td>\n",
       "    </tr>\n",
       "    <tr>\n",
       "      <th>2</th>\n",
       "      <td>The Plague</td>\n",
       "      <td>Albert Camus</td>\n",
       "      <td>1947</td>\n",
       "      <td>The text of The Plague is divided into five p...</td>\n",
       "      <td>Novel</td>\n",
       "    </tr>\n",
       "    <tr>\n",
       "      <th>4</th>\n",
       "      <td>A Fire Upon the Deep</td>\n",
       "      <td>Vernor Vinge</td>\n",
       "      <td></td>\n",
       "      <td>The novel posits that space around the Milky ...</td>\n",
       "      <td>Fantasy</td>\n",
       "    </tr>\n",
       "    <tr>\n",
       "      <th>6</th>\n",
       "      <td>A Wizard of Earthsea</td>\n",
       "      <td>Ursula K. Le Guin</td>\n",
       "      <td>1968</td>\n",
       "      <td>Ged is a young boy on Gont, one of the larger...</td>\n",
       "      <td>Fantasy</td>\n",
       "    </tr>\n",
       "  </tbody>\n",
       "</table>\n",
       "</div>"
      ],
      "text/plain": [
       "                  title             author        date  \\\n",
       "0           Animal Farm      George Orwell  1945-08-17   \n",
       "1    A Clockwork Orange    Anthony Burgess        1962   \n",
       "2            The Plague       Albert Camus        1947   \n",
       "4  A Fire Upon the Deep       Vernor Vinge               \n",
       "6  A Wizard of Earthsea  Ursula K. Le Guin        1968   \n",
       "\n",
       "                                             summary                  genre  \n",
       "0   Old Major, the old boar on the Manor Farm, ca...  Children's literature  \n",
       "1   Alex, a teenager living in near-future Englan...                  Novel  \n",
       "2   The text of The Plague is divided into five p...                  Novel  \n",
       "4   The novel posits that space around the Milky ...                Fantasy  \n",
       "6   Ged is a young boy on Gont, one of the larger...                Fantasy  "
      ]
     },
     "execution_count": 4,
     "metadata": {},
     "output_type": "execute_result"
    }
   ],
   "source": [
    "genre_books.head()"
   ]
  },
  {
   "cell_type": "code",
   "execution_count": 5,
   "metadata": {},
   "outputs": [
    {
     "data": {
      "text/html": [
       "<div>\n",
       "<style scoped>\n",
       "    .dataframe tbody tr th:only-of-type {\n",
       "        vertical-align: middle;\n",
       "    }\n",
       "\n",
       "    .dataframe tbody tr th {\n",
       "        vertical-align: top;\n",
       "    }\n",
       "\n",
       "    .dataframe thead th {\n",
       "        text-align: right;\n",
       "    }\n",
       "</style>\n",
       "<table border=\"1\" class=\"dataframe\">\n",
       "  <thead>\n",
       "    <tr style=\"text-align: right;\">\n",
       "      <th></th>\n",
       "      <th>title</th>\n",
       "      <th>author</th>\n",
       "      <th>date</th>\n",
       "      <th>summary</th>\n",
       "    </tr>\n",
       "    <tr>\n",
       "      <th>genre</th>\n",
       "      <th></th>\n",
       "      <th></th>\n",
       "      <th></th>\n",
       "      <th></th>\n",
       "    </tr>\n",
       "  </thead>\n",
       "  <tbody>\n",
       "    <tr>\n",
       "      <th>Children's literature</th>\n",
       "      <td>1092</td>\n",
       "      <td>1092</td>\n",
       "      <td>1092</td>\n",
       "      <td>1092</td>\n",
       "    </tr>\n",
       "    <tr>\n",
       "      <th>Fantasy</th>\n",
       "      <td>2311</td>\n",
       "      <td>2311</td>\n",
       "      <td>2311</td>\n",
       "      <td>2311</td>\n",
       "    </tr>\n",
       "    <tr>\n",
       "      <th>Mystery</th>\n",
       "      <td>1396</td>\n",
       "      <td>1396</td>\n",
       "      <td>1396</td>\n",
       "      <td>1396</td>\n",
       "    </tr>\n",
       "    <tr>\n",
       "      <th>Novel</th>\n",
       "      <td>2258</td>\n",
       "      <td>2258</td>\n",
       "      <td>2258</td>\n",
       "      <td>2258</td>\n",
       "    </tr>\n",
       "    <tr>\n",
       "      <th>Science Fiction</th>\n",
       "      <td>1897</td>\n",
       "      <td>1897</td>\n",
       "      <td>1897</td>\n",
       "      <td>1897</td>\n",
       "    </tr>\n",
       "  </tbody>\n",
       "</table>\n",
       "</div>"
      ],
      "text/plain": [
       "                       title  author  date  summary\n",
       "genre                                              \n",
       "Children's literature   1092    1092  1092     1092\n",
       "Fantasy                 2311    2311  2311     2311\n",
       "Mystery                 1396    1396  1396     1396\n",
       "Novel                   2258    2258  2258     2258\n",
       "Science Fiction         1897    1897  1897     1897"
      ]
     },
     "execution_count": 5,
     "metadata": {},
     "output_type": "execute_result"
    }
   ],
   "source": [
    "# check how many books we have in each genre category\n",
    "genre_books.groupby('genre').count()"
   ]
  },
  {
   "cell_type": "markdown",
   "metadata": {},
   "source": [
    "## Feature Exaction\n",
    "\n",
    "Now you take over to build a suitable model and present your results.\n",
    "\n",
    "Firstly, you need to perform feature extraction to produce feature vectors for the predictive models."
   ]
  },
  {
   "cell_type": "code",
   "execution_count": 6,
   "metadata": {},
   "outputs": [],
   "source": [
    "Y = genre_books.genre"
   ]
  },
  {
   "cell_type": "code",
   "execution_count": 7,
   "metadata": {},
   "outputs": [],
   "source": [
    "from sklearn.feature_extraction.text import TfidfVectorizer\n",
    "vectorizer = TfidfVectorizer(max_features=500)\n",
    "X = vectorizer.fit_transform(genre_books.summary).toarray()"
   ]
  },
  {
   "cell_type": "code",
   "execution_count": 8,
   "metadata": {},
   "outputs": [
    {
     "name": "stdout",
     "output_type": "stream",
     "text": [
      "['able', 'about', 'across', 'actually', 'after', 'again', 'against', 'age', 'agrees', 'all', 'almost', 'alone', 'along', 'already', 'also', 'although', 'american', 'among', 'an', 'and', 'another', 'any', 'appears', 'are', 'army', 'around', 'arrive', 'arrives', 'arthur', 'as', 'asks', 'at', 'attack', 'attacked', 'attempt', 'attempts', 'away', 'back', 'battle', 'be', 'because', 'become', 'becomes', 'been', 'before', 'begin', 'begins', 'behind', 'being', 'believe', 'believes', 'best', 'between', 'black', 'blood', 'body', 'book', 'both', 'boy', 'boys', 'bring', 'brother', 'brought', 'but', 'by', 'call', 'called', 'calls', 'can', 'cannot', 'captain', 'captured', 'car', 'case', 'castle', 'chapter', 'character', 'characters', 'child', 'children', 'city', 'close', 'come', 'comes', 'company', 'continues', 'control', 'could', 'country', 'crew', 'dark', 'daughter', 'david', 'day', 'days', 'dead', 'death', 'decide', 'decides', 'despite', 'destroy', 'destroyed', 'did', 'die', 'died', 'dies', 'different', 'discover', 'discovered', 'discovers', 'do', 'doctor', 'does', 'doesn', 'down', 'dr', 'dragon', 'due', 'during', 'each', 'earth', 'empire', 'end', 'ends', 'enough', 'entire', 'escape', 'escapes', 'even', 'events', 'eventually', 'ever', 'every', 'everyone', 'evil', 'explains', 'face', 'fact', 'fall', 'falls', 'family', 'far', 'father', 'feels', 'few', 'fight', 'final', 'finally', 'find', 'finds', 'fire', 'first', 'five', 'following', 'follows', 'for', 'force', 'forced', 'forces', 'form', 'former', 'found', 'four', 'free', 'friend', 'friends', 'from', 'full', 'further', 'future', 'get', 'gets', 'girl', 'give', 'given', 'gives', 'go', 'god', 'goes', 'going', 'good', 'government', 'great', 'group', 'had', 'half', 'hand', 'harry', 'has', 'have', 'having', 'he', 'head', 'help', 'her', 'herself', 'high', 'him', 'himself', 'his', 'history', 'home', 'house', 'how', 'however', 'human', 'humans', 'husband', 'if', 'immediately', 'in', 'including', 'information', 'inside', 'instead', 'into', 'is', 'island', 'it', 'its', 'jack', 'job', 'john', 'join', 'journey', 'just', 'keep', 'kill', 'killed', 'killing', 'kills', 'king', 'know', 'known', 'knows', 'lady', 'land', 'large', 'last', 'later', 'leader', 'leads', 'learn', 'learns', 'leave', 'leaves', 'leaving', 'led', 'left', 'letter', 'life', 'light', 'like', 'little', 'live', 'lives', 'living', 'local', 'london', 'long', 'lord', 'lost', 'love', 'made', 'magic', 'main', 'make', 'makes', 'making', 'man', 'manages', 'many', 'marriage', 'married', 'marry', 'master', 'may', 'meanwhile', 'meet', 'meeting', 'meets', 'members', 'men', 'might', 'mind', 'miss', 'missing', 'mission', 'money', 'more', 'morning', 'most', 'mother', 'mr', 'mrs', 'much', 'murder', 'must', 'mysterious', 'name', 'named', 'narrator', 'near', 'never', 'new', 'next', 'night', 'no', 'not', 'novel', 'now', 'of', 'off', 'old', 'on', 'once', 'one', 'only', 'or', 'order', 'orders', 'other', 'others', 'out', 'outside', 'over', 'own', 'parents', 'part', 'party', 'past', 'paul', 'people', 'person', 'peter', 'place', 'plan', 'planet', 'plans', 'plot', 'point', 'police', 'power', 'powerful', 'prince', 'put', 'queen', 'quickly', 'race', 'rather', 'real', 'realizes', 'red', 'refuses', 'relationship', 'rescue', 'rest', 'return', 'returns', 'revealed', 'reveals', 'richard', 'right', 'room', 'run', 'runs', 'same', 'save', 'says', 'school', 'sea', 'search', 'second', 'secret', 'see', 'seems', 'seen', 'sees', 'self', 'sends', 'sent', 'series', 'set', 'sets', 'several', 'she', 'ship', 'should', 'side', 'since', 'sister', 'small', 'so', 'society', 'some', 'something', 'son', 'soon', 'space', 'star', 'start', 'starts', 'state', 'states', 'stay', 'still', 'stop', 'story', 'strange', 'such', 'system', 'take', 'taken', 'takes', 'taking', 'team', 'tell', 'tells', 'than', 'that', 'the', 'their', 'them', 'themselves', 'then', 'there', 'these', 'they', 'things', 'third', 'this', 'those', 'though', 'three', 'through', 'thus', 'time', 'to', 'together', 'told', 'tom', 'too', 'town', 'travel', 'tries', 'true', 'try', 'trying', 'turn', 'turns', 'two', 'unable', 'uncle', 'under', 'united', 'until', 'up', 'upon', 'use', 'used', 'uses', 'using', 'very', 'village', 'visit', 'want', 'wants', 'war', 'was', 'water', 'way', 'well', 'were', 'what', 'when', 'where', 'which', 'while', 'white', 'who', 'whom', 'whose', 'why', 'wife', 'will', 'with', 'within', 'without', 'woman', 'women', 'work', 'working', 'world', 'would', 'year', 'years', 'yet', 'york', 'you', 'young']\n"
     ]
    }
   ],
   "source": [
    "print(vectorizer.get_feature_names())"
   ]
  },
  {
   "cell_type": "code",
   "execution_count": 9,
   "metadata": {},
   "outputs": [
    {
     "data": {
      "text/plain": [
       "((8954, 500), (8954,))"
      ]
     },
     "execution_count": 9,
     "metadata": {},
     "output_type": "execute_result"
    }
   ],
   "source": [
    "X.shape, Y.shape"
   ]
  },
  {
   "cell_type": "markdown",
   "metadata": {},
   "source": [
    "## Model Training\n",
    "\n",
    "Then, train two predictive models from the given data set."
   ]
  },
  {
   "cell_type": "code",
   "execution_count": 10,
   "metadata": {},
   "outputs": [],
   "source": [
    "#split the data into training dataset and testing dataset\n",
    "from sklearn.model_selection import train_test_split\n",
    "X_train, X_test = train_test_split(X, test_size=0.2, random_state=142)\n",
    "Y_train, Y_test = train_test_split(Y, test_size=0.2, random_state=142)"
   ]
  },
  {
   "cell_type": "code",
   "execution_count": 11,
   "metadata": {},
   "outputs": [
    {
     "name": "stdout",
     "output_type": "stream",
     "text": [
      "(7163, 500)\n",
      "(7163,)\n",
      "(1791, 500)\n",
      "(1791,)\n"
     ]
    }
   ],
   "source": [
    "print(X_train.shape)\n",
    "print(Y_train.shape)\n",
    "print(X_test.shape)\n",
    "print(Y_test.shape)"
   ]
  },
  {
   "cell_type": "code",
   "execution_count": 12,
   "metadata": {},
   "outputs": [
    {
     "name": "stderr",
     "output_type": "stream",
     "text": [
      "C:\\Users\\liuth\\anaconda3\\lib\\site-packages\\sklearn\\linear_model\\_logistic.py:762: ConvergenceWarning: lbfgs failed to converge (status=1):\n",
      "STOP: TOTAL NO. of ITERATIONS REACHED LIMIT.\n",
      "\n",
      "Increase the number of iterations (max_iter) or scale the data as shown in:\n",
      "    https://scikit-learn.org/stable/modules/preprocessing.html\n",
      "Please also refer to the documentation for alternative solver options:\n",
      "    https://scikit-learn.org/stable/modules/linear_model.html#logistic-regression\n",
      "  n_iter_i = _check_optimize_result(\n"
     ]
    }
   ],
   "source": [
    "#Using logisticregression to classify\n",
    "from sklearn.linear_model import LogisticRegression\n",
    "model = LogisticRegression()\n",
    "model.fit(X_train, Y_train)\n",
    "y_hat_test = model.predict(X_test)"
   ]
  },
  {
   "cell_type": "code",
   "execution_count": 13,
   "metadata": {},
   "outputs": [],
   "source": [
    "#Using GaussianNB to classify\n",
    "from sklearn.naive_bayes import GaussianNB\n",
    "gnb = GaussianNB()\n",
    "gnb.fit(X_train, Y_train)\n",
    "gnb_predicted = gnb.predict(X_test)"
   ]
  },
  {
   "cell_type": "code",
   "execution_count": 14,
   "metadata": {},
   "outputs": [],
   "source": [
    "#Using RandomForestClassifier to classify\n",
    "from sklearn.ensemble import RandomForestClassifier\n",
    "clf = RandomForestClassifier()\n",
    "clf.fit(X_train,Y_train)\n",
    "clf_predicted= clf.predict(X_test)"
   ]
  },
  {
   "cell_type": "markdown",
   "metadata": {},
   "source": [
    "## Model Evaluation\n",
    "\n",
    "Finally, evaluate and compare the learned predictive models."
   ]
  },
  {
   "cell_type": "markdown",
   "metadata": {},
   "source": [
    "### LogisticRegression:"
   ]
  },
  {
   "cell_type": "code",
   "execution_count": 15,
   "metadata": {},
   "outputs": [
    {
     "name": "stdout",
     "output_type": "stream",
     "text": [
      "Accuracy score:  0.6152987158012284\n",
      "Confusion matrix: \n",
      "[[101  52  18  64   2]\n",
      " [ 22 319  12  47  53]\n",
      " [ 11  29 150  58  23]\n",
      " [ 31  45  30 289  35]\n",
      " [  5  70  18  64 243]]\n"
     ]
    }
   ],
   "source": [
    "from sklearn.metrics import confusion_matrix, accuracy_score\n",
    "#Calculate accuracy score and make a confusion matrix in LogisticRegression\n",
    "print(\"Accuracy score: \", accuracy_score(Y_test, y_hat_test))\n",
    "print(\"Confusion matrix: \")\n",
    "print(confusion_matrix(Y_test, y_hat_test))"
   ]
  },
  {
   "cell_type": "markdown",
   "metadata": {},
   "source": [
    "### Comment on the values in LogisticRegression:\n",
    "* The accuracy score when using LogisticRegression to classify genres of the books is 0.615. That number is not quite high, but it is still good compared to two below models.\n",
    "* Based on the confusion matrix, we can see that there are 237 books that their genre is Children's literature, but the number of books which are classified correctly is 101. There are 453 books that their genre is Science Fiction and the number of books are classified precisely is 319. In Novel genre, while there are 271 books, the number of books which are predicted correctly is 150. The other two categories are Fantasy and Mystery with 430 and 400 books in total respectively. The number of Fantasy books are classified correctly is 289. Finally, the number of books with the category of novels is correctly classified is 243."
   ]
  },
  {
   "cell_type": "markdown",
   "metadata": {},
   "source": [
    "### RandomForestClassifier:"
   ]
  },
  {
   "cell_type": "code",
   "execution_count": 16,
   "metadata": {},
   "outputs": [
    {
     "name": "stdout",
     "output_type": "stream",
     "text": [
      "Accuracy score:  0.6035734226689\n",
      "Confusion matrix: \n",
      "[[ 64  62  15  90   6]\n",
      " [  9 326  16  57  45]\n",
      " [ 11  41 135  73  11]\n",
      " [ 12  43  27 312  36]\n",
      " [  3  73  19  61 244]]\n"
     ]
    }
   ],
   "source": [
    "#Calculate accuracy score and make a confusion matrix in RandomForestClassifier\n",
    "print(\"Accuracy score: \", accuracy_score(Y_test, clf_predicted))\n",
    "print(\"Confusion matrix: \")\n",
    "print(confusion_matrix(Y_test, clf_predicted))"
   ]
  },
  {
   "cell_type": "markdown",
   "metadata": {},
   "source": [
    "### Comment on the values in RandomForestClassifier:\n",
    "* The accuracy score when using RandomForestClassifier to classify genres of the books is 0.6.\n",
    "* As can be seen from the confusion matrix, the total of precisely predicted books decreases from 1102 to 1081. In which the number of science fiction books and the number of books about the fantasy genre is correctly classified are 326 and 312 books respectively. They are higher than the values in using LogisticRegression model. "
   ]
  },
  {
   "cell_type": "markdown",
   "metadata": {},
   "source": [
    "### GaussianNB:"
   ]
  },
  {
   "cell_type": "code",
   "execution_count": 17,
   "metadata": {},
   "outputs": [
    {
     "name": "stdout",
     "output_type": "stream",
     "text": [
      "Accuracy score:  0.5388051367950866\n",
      "Confusion matrix: \n",
      "[[117  39  32  34  15]\n",
      " [ 53 270  24  29  77]\n",
      " [ 23  24 164  37  23]\n",
      " [ 77  42  67 174  70]\n",
      " [ 12  76  30  42 240]]\n"
     ]
    }
   ],
   "source": [
    "#Calculate accuracy score and make a confusion matrix in GaussianNB\n",
    "print(\"Accuracy score: \", accuracy_score(Y_test, gnb_predicted))\n",
    "print(\"Confusion matrix: \")\n",
    "print(confusion_matrix(Y_test, gnb_predicted))"
   ]
  },
  {
   "cell_type": "markdown",
   "metadata": {},
   "source": [
    "### Comment on the values in GaussianNB:\n",
    "* The accuracy score when using GaussianNB to classify genres of the books is 0.539. That number is lowest compared to two above models.\n",
    "* In the confusion matrix, the total of the correctly classified books is 965, which is about 200 lower than for using Logistic Regression and about 100 lower than the Random Forest Classifier methods."
   ]
  },
  {
   "cell_type": "markdown",
   "metadata": {},
   "source": [
    "# General:\n",
    "I used 3 classification models for a better view instead of just 2, after calculating the accuracy of each model as well as building a confusion matrix to see the total number of correct prediction books and the total number of books with incorrect prediction in all 3 models. Then I conclude that, based on the above results, the use of the logistic regression model to classify the book genre is the most effective compared to the other 2 models."
   ]
  }
 ],
 "metadata": {
  "kernelspec": {
   "display_name": "Python 3",
   "language": "python",
   "name": "python3"
  },
  "language_info": {
   "codemirror_mode": {
    "name": "ipython",
    "version": 3
   },
   "file_extension": ".py",
   "mimetype": "text/x-python",
   "name": "python",
   "nbconvert_exporter": "python",
   "pygments_lexer": "ipython3",
   "version": "3.8.3"
  }
 },
 "nbformat": 4,
 "nbformat_minor": 2
}
